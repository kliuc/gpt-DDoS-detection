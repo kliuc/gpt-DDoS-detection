{
 "cells": [
  {
   "cell_type": "markdown",
   "metadata": {},
   "source": [
    "Building the prompt from dataset"
   ]
  },
  {
   "cell_type": "code",
   "execution_count": 2,
   "metadata": {},
   "outputs": [],
   "source": [
    "import pandas as pd\n",
    "from sklearn.model_selection import train_test_split"
   ]
  },
  {
   "cell_type": "code",
   "execution_count": 37,
   "metadata": {},
   "outputs": [
    {
     "data": {
      "text/html": [
       "<div>\n",
       "<style scoped>\n",
       "    .dataframe tbody tr th:only-of-type {\n",
       "        vertical-align: middle;\n",
       "    }\n",
       "\n",
       "    .dataframe tbody tr th {\n",
       "        vertical-align: top;\n",
       "    }\n",
       "\n",
       "    .dataframe thead th {\n",
       "        text-align: right;\n",
       "    }\n",
       "</style>\n",
       "<table border=\"1\" class=\"dataframe\">\n",
       "  <thead>\n",
       "    <tr style=\"text-align: right;\">\n",
       "      <th></th>\n",
       "      <th>Destination Port</th>\n",
       "      <th>Flow Duration</th>\n",
       "      <th>Total Fwd Packets</th>\n",
       "      <th>Total Backward Packets</th>\n",
       "      <th>Total Length of Fwd Packets</th>\n",
       "      <th>Total Length of Bwd Packets</th>\n",
       "      <th>Fwd Packet Length Max</th>\n",
       "      <th>Fwd Packet Length Min</th>\n",
       "      <th>Fwd Packet Length Mean</th>\n",
       "      <th>Fwd Packet Length Std</th>\n",
       "      <th>...</th>\n",
       "      <th>min_seg_size_forward</th>\n",
       "      <th>Active Mean</th>\n",
       "      <th>Active Std</th>\n",
       "      <th>Active Max</th>\n",
       "      <th>Active Min</th>\n",
       "      <th>Idle Mean</th>\n",
       "      <th>Idle Std</th>\n",
       "      <th>Idle Max</th>\n",
       "      <th>Idle Min</th>\n",
       "      <th>Label</th>\n",
       "    </tr>\n",
       "  </thead>\n",
       "  <tbody>\n",
       "    <tr>\n",
       "      <th>0</th>\n",
       "      <td>54865</td>\n",
       "      <td>3</td>\n",
       "      <td>2</td>\n",
       "      <td>0</td>\n",
       "      <td>12</td>\n",
       "      <td>0</td>\n",
       "      <td>6</td>\n",
       "      <td>6</td>\n",
       "      <td>6.0</td>\n",
       "      <td>0.0</td>\n",
       "      <td>...</td>\n",
       "      <td>20</td>\n",
       "      <td>0.0</td>\n",
       "      <td>0.0</td>\n",
       "      <td>0</td>\n",
       "      <td>0</td>\n",
       "      <td>0.0</td>\n",
       "      <td>0.0</td>\n",
       "      <td>0</td>\n",
       "      <td>0</td>\n",
       "      <td>BENIGN</td>\n",
       "    </tr>\n",
       "    <tr>\n",
       "      <th>1</th>\n",
       "      <td>55054</td>\n",
       "      <td>109</td>\n",
       "      <td>1</td>\n",
       "      <td>1</td>\n",
       "      <td>6</td>\n",
       "      <td>6</td>\n",
       "      <td>6</td>\n",
       "      <td>6</td>\n",
       "      <td>6.0</td>\n",
       "      <td>0.0</td>\n",
       "      <td>...</td>\n",
       "      <td>20</td>\n",
       "      <td>0.0</td>\n",
       "      <td>0.0</td>\n",
       "      <td>0</td>\n",
       "      <td>0</td>\n",
       "      <td>0.0</td>\n",
       "      <td>0.0</td>\n",
       "      <td>0</td>\n",
       "      <td>0</td>\n",
       "      <td>BENIGN</td>\n",
       "    </tr>\n",
       "    <tr>\n",
       "      <th>2</th>\n",
       "      <td>55055</td>\n",
       "      <td>52</td>\n",
       "      <td>1</td>\n",
       "      <td>1</td>\n",
       "      <td>6</td>\n",
       "      <td>6</td>\n",
       "      <td>6</td>\n",
       "      <td>6</td>\n",
       "      <td>6.0</td>\n",
       "      <td>0.0</td>\n",
       "      <td>...</td>\n",
       "      <td>20</td>\n",
       "      <td>0.0</td>\n",
       "      <td>0.0</td>\n",
       "      <td>0</td>\n",
       "      <td>0</td>\n",
       "      <td>0.0</td>\n",
       "      <td>0.0</td>\n",
       "      <td>0</td>\n",
       "      <td>0</td>\n",
       "      <td>BENIGN</td>\n",
       "    </tr>\n",
       "    <tr>\n",
       "      <th>3</th>\n",
       "      <td>46236</td>\n",
       "      <td>34</td>\n",
       "      <td>1</td>\n",
       "      <td>1</td>\n",
       "      <td>6</td>\n",
       "      <td>6</td>\n",
       "      <td>6</td>\n",
       "      <td>6</td>\n",
       "      <td>6.0</td>\n",
       "      <td>0.0</td>\n",
       "      <td>...</td>\n",
       "      <td>20</td>\n",
       "      <td>0.0</td>\n",
       "      <td>0.0</td>\n",
       "      <td>0</td>\n",
       "      <td>0</td>\n",
       "      <td>0.0</td>\n",
       "      <td>0.0</td>\n",
       "      <td>0</td>\n",
       "      <td>0</td>\n",
       "      <td>BENIGN</td>\n",
       "    </tr>\n",
       "    <tr>\n",
       "      <th>4</th>\n",
       "      <td>54863</td>\n",
       "      <td>3</td>\n",
       "      <td>2</td>\n",
       "      <td>0</td>\n",
       "      <td>12</td>\n",
       "      <td>0</td>\n",
       "      <td>6</td>\n",
       "      <td>6</td>\n",
       "      <td>6.0</td>\n",
       "      <td>0.0</td>\n",
       "      <td>...</td>\n",
       "      <td>20</td>\n",
       "      <td>0.0</td>\n",
       "      <td>0.0</td>\n",
       "      <td>0</td>\n",
       "      <td>0</td>\n",
       "      <td>0.0</td>\n",
       "      <td>0.0</td>\n",
       "      <td>0</td>\n",
       "      <td>0</td>\n",
       "      <td>BENIGN</td>\n",
       "    </tr>\n",
       "  </tbody>\n",
       "</table>\n",
       "<p>5 rows × 79 columns</p>\n",
       "</div>"
      ],
      "text/plain": [
       "   Destination Port  Flow Duration  Total Fwd Packets  Total Backward Packets  \\\n",
       "0             54865              3                  2                       0   \n",
       "1             55054            109                  1                       1   \n",
       "2             55055             52                  1                       1   \n",
       "3             46236             34                  1                       1   \n",
       "4             54863              3                  2                       0   \n",
       "\n",
       "   Total Length of Fwd Packets  Total Length of Bwd Packets  \\\n",
       "0                           12                            0   \n",
       "1                            6                            6   \n",
       "2                            6                            6   \n",
       "3                            6                            6   \n",
       "4                           12                            0   \n",
       "\n",
       "   Fwd Packet Length Max  Fwd Packet Length Min  Fwd Packet Length Mean  \\\n",
       "0                      6                      6                     6.0   \n",
       "1                      6                      6                     6.0   \n",
       "2                      6                      6                     6.0   \n",
       "3                      6                      6                     6.0   \n",
       "4                      6                      6                     6.0   \n",
       "\n",
       "   Fwd Packet Length Std  ...  min_seg_size_forward  Active Mean  Active Std  \\\n",
       "0                    0.0  ...                    20          0.0         0.0   \n",
       "1                    0.0  ...                    20          0.0         0.0   \n",
       "2                    0.0  ...                    20          0.0         0.0   \n",
       "3                    0.0  ...                    20          0.0         0.0   \n",
       "4                    0.0  ...                    20          0.0         0.0   \n",
       "\n",
       "   Active Max  Active Min  Idle Mean  Idle Std  Idle Max  Idle Min   Label  \n",
       "0           0           0        0.0       0.0         0         0  BENIGN  \n",
       "1           0           0        0.0       0.0         0         0  BENIGN  \n",
       "2           0           0        0.0       0.0         0         0  BENIGN  \n",
       "3           0           0        0.0       0.0         0         0  BENIGN  \n",
       "4           0           0        0.0       0.0         0         0  BENIGN  \n",
       "\n",
       "[5 rows x 79 columns]"
      ]
     },
     "execution_count": 37,
     "metadata": {},
     "output_type": "execute_result"
    }
   ],
   "source": [
    "friday = pd.read_csv('Friday-WorkingHours-Afternoon-DDos.pcap_ISCX.csv')\n",
    "friday.columns = [column.strip() for column in friday.columns]\n",
    "friday.head()"
   ]
  },
  {
   "cell_type": "code",
   "execution_count": 4,
   "metadata": {},
   "outputs": [
    {
     "data": {
      "text/plain": [
       "Index(['Destination Port', 'Flow Duration', 'Total Fwd Packets',\n",
       "       'Total Backward Packets', 'Total Length of Fwd Packets',\n",
       "       'Total Length of Bwd Packets', 'Fwd Packet Length Max',\n",
       "       'Fwd Packet Length Min', 'Fwd Packet Length Mean',\n",
       "       'Fwd Packet Length Std', 'Bwd Packet Length Max',\n",
       "       'Bwd Packet Length Min', 'Bwd Packet Length Mean',\n",
       "       'Bwd Packet Length Std', 'Flow Bytes/s', 'Flow Packets/s',\n",
       "       'Flow IAT Mean', 'Flow IAT Std', 'Flow IAT Max', 'Flow IAT Min',\n",
       "       'Fwd IAT Total', 'Fwd IAT Mean', 'Fwd IAT Std', 'Fwd IAT Max',\n",
       "       'Fwd IAT Min', 'Bwd IAT Total', 'Bwd IAT Mean', 'Bwd IAT Std',\n",
       "       'Bwd IAT Max', 'Bwd IAT Min', 'Fwd PSH Flags', 'Bwd PSH Flags',\n",
       "       'Fwd URG Flags', 'Bwd URG Flags', 'Fwd Header Length',\n",
       "       'Bwd Header Length', 'Fwd Packets/s', 'Bwd Packets/s',\n",
       "       'Min Packet Length', 'Max Packet Length', 'Packet Length Mean',\n",
       "       'Packet Length Std', 'Packet Length Variance', 'FIN Flag Count',\n",
       "       'SYN Flag Count', 'RST Flag Count', 'PSH Flag Count', 'ACK Flag Count',\n",
       "       'URG Flag Count', 'CWE Flag Count', 'ECE Flag Count', 'Down/Up Ratio',\n",
       "       'Average Packet Size', 'Avg Fwd Segment Size', 'Avg Bwd Segment Size',\n",
       "       'Fwd Header Length.1', 'Fwd Avg Bytes/Bulk', 'Fwd Avg Packets/Bulk',\n",
       "       'Fwd Avg Bulk Rate', 'Bwd Avg Bytes/Bulk', 'Bwd Avg Packets/Bulk',\n",
       "       'Bwd Avg Bulk Rate', 'Subflow Fwd Packets', 'Subflow Fwd Bytes',\n",
       "       'Subflow Bwd Packets', 'Subflow Bwd Bytes', 'Init_Win_bytes_forward',\n",
       "       'Init_Win_bytes_backward', 'act_data_pkt_fwd', 'min_seg_size_forward',\n",
       "       'Active Mean', 'Active Std', 'Active Max', 'Active Min', 'Idle Mean',\n",
       "       'Idle Std', 'Idle Max', 'Idle Min', 'Label'],\n",
       "      dtype='object')"
      ]
     },
     "execution_count": 4,
     "metadata": {},
     "output_type": "execute_result"
    }
   ],
   "source": [
    "friday.columns"
   ]
  },
  {
   "cell_type": "code",
   "execution_count": 5,
   "metadata": {},
   "outputs": [
    {
     "data": {
      "text/html": [
       "<div>\n",
       "<style scoped>\n",
       "    .dataframe tbody tr th:only-of-type {\n",
       "        vertical-align: middle;\n",
       "    }\n",
       "\n",
       "    .dataframe tbody tr th {\n",
       "        vertical-align: top;\n",
       "    }\n",
       "\n",
       "    .dataframe thead th {\n",
       "        text-align: right;\n",
       "    }\n",
       "</style>\n",
       "<table border=\"1\" class=\"dataframe\">\n",
       "  <thead>\n",
       "    <tr style=\"text-align: right;\">\n",
       "      <th></th>\n",
       "      <th>Bwd Packet Length Min</th>\n",
       "      <th>Bwd Packet Length Std</th>\n",
       "      <th>Average Packet Size</th>\n",
       "      <th>Flow Duration</th>\n",
       "      <th>Flow IAT Std</th>\n",
       "      <th>Label</th>\n",
       "    </tr>\n",
       "  </thead>\n",
       "  <tbody>\n",
       "    <tr>\n",
       "      <th>0</th>\n",
       "      <td>0</td>\n",
       "      <td>0.0</td>\n",
       "      <td>9.0</td>\n",
       "      <td>3</td>\n",
       "      <td>0.0</td>\n",
       "      <td>BENIGN</td>\n",
       "    </tr>\n",
       "    <tr>\n",
       "      <th>1</th>\n",
       "      <td>6</td>\n",
       "      <td>0.0</td>\n",
       "      <td>9.0</td>\n",
       "      <td>109</td>\n",
       "      <td>0.0</td>\n",
       "      <td>BENIGN</td>\n",
       "    </tr>\n",
       "    <tr>\n",
       "      <th>2</th>\n",
       "      <td>6</td>\n",
       "      <td>0.0</td>\n",
       "      <td>9.0</td>\n",
       "      <td>52</td>\n",
       "      <td>0.0</td>\n",
       "      <td>BENIGN</td>\n",
       "    </tr>\n",
       "    <tr>\n",
       "      <th>3</th>\n",
       "      <td>6</td>\n",
       "      <td>0.0</td>\n",
       "      <td>9.0</td>\n",
       "      <td>34</td>\n",
       "      <td>0.0</td>\n",
       "      <td>BENIGN</td>\n",
       "    </tr>\n",
       "    <tr>\n",
       "      <th>4</th>\n",
       "      <td>0</td>\n",
       "      <td>0.0</td>\n",
       "      <td>9.0</td>\n",
       "      <td>3</td>\n",
       "      <td>0.0</td>\n",
       "      <td>BENIGN</td>\n",
       "    </tr>\n",
       "  </tbody>\n",
       "</table>\n",
       "</div>"
      ],
      "text/plain": [
       "   Bwd Packet Length Min  Bwd Packet Length Std  Average Packet Size  \\\n",
       "0                      0                    0.0                  9.0   \n",
       "1                      6                    0.0                  9.0   \n",
       "2                      6                    0.0                  9.0   \n",
       "3                      6                    0.0                  9.0   \n",
       "4                      0                    0.0                  9.0   \n",
       "\n",
       "   Flow Duration  Flow IAT Std   Label  \n",
       "0              3           0.0  BENIGN  \n",
       "1            109           0.0  BENIGN  \n",
       "2             52           0.0  BENIGN  \n",
       "3             34           0.0  BENIGN  \n",
       "4              3           0.0  BENIGN  "
      ]
     },
     "execution_count": 5,
     "metadata": {},
     "output_type": "execute_result"
    }
   ],
   "source": [
    "# reducing to the best features for DDoS detection (according to published paper)\n",
    "\n",
    "friday_reduced = friday[['Bwd Packet Length Min', 'Bwd Packet Length Std', 'Average Packet Size', 'Flow Duration', 'Flow IAT Std', 'Label']]\n",
    "friday_reduced.head()"
   ]
  },
  {
   "cell_type": "code",
   "execution_count": 110,
   "metadata": {},
   "outputs": [
    {
     "data": {
      "text/html": [
       "<div>\n",
       "<style scoped>\n",
       "    .dataframe tbody tr th:only-of-type {\n",
       "        vertical-align: middle;\n",
       "    }\n",
       "\n",
       "    .dataframe tbody tr th {\n",
       "        vertical-align: top;\n",
       "    }\n",
       "\n",
       "    .dataframe thead th {\n",
       "        text-align: right;\n",
       "    }\n",
       "</style>\n",
       "<table border=\"1\" class=\"dataframe\">\n",
       "  <thead>\n",
       "    <tr style=\"text-align: right;\">\n",
       "      <th></th>\n",
       "      <th>Bwd Packet Length Min</th>\n",
       "      <th>Bwd Packet Length Std</th>\n",
       "      <th>Average Packet Size</th>\n",
       "      <th>Flow Duration</th>\n",
       "      <th>Flow IAT Std</th>\n",
       "    </tr>\n",
       "  </thead>\n",
       "  <tbody>\n",
       "    <tr>\n",
       "      <th>count</th>\n",
       "      <td>225745.000000</td>\n",
       "      <td>225745.000000</td>\n",
       "      <td>225745.000000</td>\n",
       "      <td>2.257450e+05</td>\n",
       "      <td>2.257450e+05</td>\n",
       "    </tr>\n",
       "    <tr>\n",
       "      <th>mean</th>\n",
       "      <td>16.718776</td>\n",
       "      <td>1230.172938</td>\n",
       "      <td>574.568843</td>\n",
       "      <td>1.624165e+07</td>\n",
       "      <td>4.248569e+06</td>\n",
       "    </tr>\n",
       "    <tr>\n",
       "      <th>std</th>\n",
       "      <td>50.480568</td>\n",
       "      <td>1733.201267</td>\n",
       "      <td>626.096202</td>\n",
       "      <td>3.152437e+07</td>\n",
       "      <td>7.622819e+06</td>\n",
       "    </tr>\n",
       "    <tr>\n",
       "      <th>min</th>\n",
       "      <td>0.000000</td>\n",
       "      <td>0.000000</td>\n",
       "      <td>0.000000</td>\n",
       "      <td>-1.000000e+00</td>\n",
       "      <td>0.000000e+00</td>\n",
       "    </tr>\n",
       "    <tr>\n",
       "      <th>25%</th>\n",
       "      <td>0.000000</td>\n",
       "      <td>0.000000</td>\n",
       "      <td>7.500000</td>\n",
       "      <td>7.118000e+04</td>\n",
       "      <td>1.910446e+04</td>\n",
       "    </tr>\n",
       "    <tr>\n",
       "      <th>50%</th>\n",
       "      <td>0.000000</td>\n",
       "      <td>2.449490</td>\n",
       "      <td>141.000000</td>\n",
       "      <td>1.452333e+06</td>\n",
       "      <td>5.641676e+05</td>\n",
       "    </tr>\n",
       "    <tr>\n",
       "      <th>75%</th>\n",
       "      <td>6.000000</td>\n",
       "      <td>2436.833027</td>\n",
       "      <td>1291.888889</td>\n",
       "      <td>8.805237e+06</td>\n",
       "      <td>4.033232e+06</td>\n",
       "    </tr>\n",
       "    <tr>\n",
       "      <th>max</th>\n",
       "      <td>1460.000000</td>\n",
       "      <td>8194.660487</td>\n",
       "      <td>2528.000000</td>\n",
       "      <td>1.199999e+08</td>\n",
       "      <td>6.920000e+07</td>\n",
       "    </tr>\n",
       "  </tbody>\n",
       "</table>\n",
       "</div>"
      ],
      "text/plain": [
       "       Bwd Packet Length Min  Bwd Packet Length Std  Average Packet Size  \\\n",
       "count          225745.000000          225745.000000        225745.000000   \n",
       "mean               16.718776            1230.172938           574.568843   \n",
       "std                50.480568            1733.201267           626.096202   \n",
       "min                 0.000000               0.000000             0.000000   \n",
       "25%                 0.000000               0.000000             7.500000   \n",
       "50%                 0.000000               2.449490           141.000000   \n",
       "75%                 6.000000            2436.833027          1291.888889   \n",
       "max              1460.000000            8194.660487          2528.000000   \n",
       "\n",
       "       Flow Duration  Flow IAT Std  \n",
       "count   2.257450e+05  2.257450e+05  \n",
       "mean    1.624165e+07  4.248569e+06  \n",
       "std     3.152437e+07  7.622819e+06  \n",
       "min    -1.000000e+00  0.000000e+00  \n",
       "25%     7.118000e+04  1.910446e+04  \n",
       "50%     1.452333e+06  5.641676e+05  \n",
       "75%     8.805237e+06  4.033232e+06  \n",
       "max     1.199999e+08  6.920000e+07  "
      ]
     },
     "execution_count": 110,
     "metadata": {},
     "output_type": "execute_result"
    }
   ],
   "source": [
    "friday_reduced.describe()"
   ]
  },
  {
   "cell_type": "code",
   "execution_count": 16,
   "metadata": {},
   "outputs": [
    {
     "data": {
      "text/plain": [
       "(23, 6)"
      ]
     },
     "execution_count": 16,
     "metadata": {},
     "output_type": "execute_result"
    }
   ],
   "source": [
    "train, test = train_test_split(friday_reduced, test_size=1e-4)\n",
    "test.shape"
   ]
  },
  {
   "cell_type": "code",
   "execution_count": 17,
   "metadata": {},
   "outputs": [],
   "source": [
    "training_sample = pd.concat([train[train['Label'] == 'BENIGN'].sample(5), train[train['Label'] == 'DDoS'].sample(5)])\n",
    "testing_sample = test.iloc[[0]]"
   ]
  },
  {
   "cell_type": "code",
   "execution_count": 92,
   "metadata": {},
   "outputs": [],
   "source": [
    "def promptify_data(df):\n",
    "    column_names = ['Bwd Packet Length Min', 'Bwd Packet Length Std', 'Average Packet Size', 'Flow Duration', 'Time Between Packets Std', 'Label']\n",
    "    formatted_rows = []\n",
    "    for index, row in df.iterrows():\n",
    "        formatted_row = ' | '.join([f'{column_names[i]}: {row.iloc[i]}' for i in range(len(row))])\n",
    "        formatted_rows.append(formatted_row)\n",
    "    \n",
    "    interleaved_rows = []\n",
    "    while len(formatted_rows) > 1:\n",
    "        interleaved_rows.append(formatted_rows.pop(0))\n",
    "        interleaved_rows.append(formatted_rows.pop(-1))\n",
    "    if len(formatted_rows) == 1:\n",
    "        interleaved_rows.append(formatted_rows[0])\n",
    "\n",
    "    return '\\n'.join(interleaved_rows)"
   ]
  },
  {
   "cell_type": "code",
   "execution_count": 94,
   "metadata": {},
   "outputs": [
    {
     "data": {
      "text/plain": [
       "'Bwd Packet Length Min: 6.0 | Bwd Packet Length Std: 0.0 | Average Packet Size: 7.0 | Flow Duration: 7607787.0 | Time Between Packets Std: 3392968.51'"
      ]
     },
     "execution_count": 94,
     "metadata": {},
     "output_type": "execute_result"
    }
   ],
   "source": [
    "promptify_data(testing_sample.iloc[:, :-1])"
   ]
  },
  {
   "cell_type": "code",
   "execution_count": 93,
   "metadata": {},
   "outputs": [
    {
     "name": "stdout",
     "output_type": "stream",
     "text": [
      "Bwd Packet Length Min: 128 | Bwd Packet Length Std: 0.0 | Average Packet Size: 96.25 | Flow Duration: 50027 | Time Between Packets Std: 28838.07777 | Label: BENIGN\n",
      "Bwd Packet Length Min: 0 | Bwd Packet Length Std: 5795.50069 | Average Packet Size: 1661.857143 | Flow Duration: 98446 | Time Between Packets Std: 39859.03376 | Label: DDoS\n",
      "Bwd Packet Length Min: 6 | Bwd Packet Length Std: 0.0 | Average Packet Size: 9.0 | Flow Duration: 121289 | Time Between Packets Std: 0.0 | Label: BENIGN\n",
      "Bwd Packet Length Min: 0 | Bwd Packet Length Std: 3668.897 | Average Packet Size: 897.1538462 | Flow Duration: 98319786 | Time Between Packets Std: 26900000.0 | Label: DDoS\n",
      "Bwd Packet Length Min: 0 | Bwd Packet Length Std: 467.5 | Average Packet Size: 189.5 | Flow Duration: 427605 | Time Between Packets Std: 103718.3593 | Label: BENIGN\n",
      "Bwd Packet Length Min: 0 | Bwd Packet Length Std: 2177.344966 | Average Packet Size: 1292.555556 | Flow Duration: 976170 | Time Between Packets Std: 344723.8229 | Label: DDoS\n",
      "Bwd Packet Length Min: 72 | Bwd Packet Length Std: 0.0 | Average Packet Size: 63.5 | Flow Duration: 54269 | Time Between Packets Std: 15530.79444 | Label: BENIGN\n",
      "Bwd Packet Length Min: 0 | Bwd Packet Length Std: 0.0 | Average Packet Size: 7.5 | Flow Duration: 8017745 | Time Between Packets Std: 4628195.957 | Label: DDoS\n",
      "Bwd Packet Length Min: 78 | Bwd Packet Length Std: 0.0 | Average Packet Size: 70.25 | Flow Duration: 101249 | Time Between Packets Std: 24641.29897 | Label: BENIGN\n",
      "Bwd Packet Length Min: 0 | Bwd Packet Length Std: 2863.744245 | Average Packet Size: 1292.555556 | Flow Duration: 1838920 | Time Between Packets Std: 649725.3019 | Label: DDoS\n"
     ]
    }
   ],
   "source": [
    "print(promptify_data(training_sample))"
   ]
  },
  {
   "cell_type": "code",
   "execution_count": 98,
   "metadata": {},
   "outputs": [],
   "source": [
    "system_prompt = '''You will be provided with a sample of network traffic data that is split between training data and a single testing data (separated by '###'). Each row of data is separated by a newline, and each row has features that are separated by a pipe symbol ('|'). Using information from the training data, predict the best label (BENIGN or DDoS) for the testing data. First explain your reasoning for the selected label. Then indicate the predicted label with '$$$' on each side.'''\n",
    "user_prompt = promptify_data(training_sample) + '\\n###\\n' + promptify_data(testing_sample.iloc[:, :-1])"
   ]
  },
  {
   "cell_type": "code",
   "execution_count": 100,
   "metadata": {},
   "outputs": [
    {
     "name": "stdout",
     "output_type": "stream",
     "text": [
      "You will be provided with a sample of network traffic data that is split between training data and a single testing data (separated by '###'). Each row of data is separated by a newline, and each row has features that are separated by a pipe symbol ('|'). Using information from the training data, predict the best label (BENIGN or DDoS) for the testing data. First explain your reasoning for the selected label. Then indicate the predicted label with '$$$' on each side.\n",
      "Bwd Packet Length Min: 128 | Bwd Packet Length Std: 0.0 | Average Packet Size: 96.25 | Flow Duration: 50027 | Time Between Packets Std: 28838.07777 | Label: BENIGN\n",
      "Bwd Packet Length Min: 0 | Bwd Packet Length Std: 5795.50069 | Average Packet Size: 1661.857143 | Flow Duration: 98446 | Time Between Packets Std: 39859.03376 | Label: DDoS\n",
      "Bwd Packet Length Min: 6 | Bwd Packet Length Std: 0.0 | Average Packet Size: 9.0 | Flow Duration: 121289 | Time Between Packets Std: 0.0 | Label: BENIGN\n",
      "Bwd Packet Length Min: 0 | Bwd Packet Length Std: 3668.897 | Average Packet Size: 897.1538462 | Flow Duration: 98319786 | Time Between Packets Std: 26900000.0 | Label: DDoS\n",
      "Bwd Packet Length Min: 0 | Bwd Packet Length Std: 467.5 | Average Packet Size: 189.5 | Flow Duration: 427605 | Time Between Packets Std: 103718.3593 | Label: BENIGN\n",
      "Bwd Packet Length Min: 0 | Bwd Packet Length Std: 2177.344966 | Average Packet Size: 1292.555556 | Flow Duration: 976170 | Time Between Packets Std: 344723.8229 | Label: DDoS\n",
      "Bwd Packet Length Min: 72 | Bwd Packet Length Std: 0.0 | Average Packet Size: 63.5 | Flow Duration: 54269 | Time Between Packets Std: 15530.79444 | Label: BENIGN\n",
      "Bwd Packet Length Min: 0 | Bwd Packet Length Std: 0.0 | Average Packet Size: 7.5 | Flow Duration: 8017745 | Time Between Packets Std: 4628195.957 | Label: DDoS\n",
      "Bwd Packet Length Min: 78 | Bwd Packet Length Std: 0.0 | Average Packet Size: 70.25 | Flow Duration: 101249 | Time Between Packets Std: 24641.29897 | Label: BENIGN\n",
      "Bwd Packet Length Min: 0 | Bwd Packet Length Std: 2863.744245 | Average Packet Size: 1292.555556 | Flow Duration: 1838920 | Time Between Packets Std: 649725.3019 | Label: DDoS\n",
      "###\n",
      "Bwd Packet Length Min: 6.0 | Bwd Packet Length Std: 0.0 | Average Packet Size: 7.0 | Flow Duration: 7607787.0 | Time Between Packets Std: 3392968.51\n"
     ]
    }
   ],
   "source": [
    "print(system_prompt)\n",
    "print(user_prompt)"
   ]
  },
  {
   "cell_type": "markdown",
   "metadata": {},
   "source": [
    "Testing the prompt"
   ]
  },
  {
   "cell_type": "code",
   "execution_count": 22,
   "metadata": {},
   "outputs": [],
   "source": [
    "from openai import OpenAI"
   ]
  },
  {
   "cell_type": "code",
   "execution_count": 23,
   "metadata": {},
   "outputs": [],
   "source": [
    "client = OpenAI()"
   ]
  },
  {
   "cell_type": "code",
   "execution_count": 101,
   "metadata": {},
   "outputs": [
    {
     "name": "stdout",
     "output_type": "stream",
     "text": [
      "Based on the provided training data, we can see that the features for DDoS-labelled entries generally have higher values compared to those labelled as BENIGN. Specifically, the 'Bwd Packet Length Std' and 'Average Packet Size' features seem to be significantly higher for DDoS traffic compared to BENIGN traffic.\n",
      "\n",
      "In the given testing data entry, the values for 'Bwd Packet Length Std' (0.0) and 'Average Packet Size' (7.0) are more in line with the BENIGN traffic entries from the training data. Therefore, based on this observation, I predict that the label for this testing data entry should be BENIGN.\n",
      "\n",
      "$$$BENIGN$$$\n"
     ]
    }
   ],
   "source": [
    "completion = client.chat.completions.create(\n",
    "  model='gpt-3.5-turbo',\n",
    "  messages=[\n",
    "    {'role': 'system', 'content': system_prompt},\n",
    "    {'role': 'user', 'content': user_prompt}\n",
    "  ]\n",
    ")\n",
    "\n",
    "print(completion.choices[0].message.content)"
   ]
  },
  {
   "cell_type": "code",
   "execution_count": 102,
   "metadata": {},
   "outputs": [
    {
     "data": {
      "text/plain": [
       "95513    BENIGN\n",
       "Name: Label, dtype: object"
      ]
     },
     "execution_count": 102,
     "metadata": {},
     "output_type": "execute_result"
    }
   ],
   "source": [
    "testing_sample['Label']"
   ]
  },
  {
   "cell_type": "markdown",
   "metadata": {},
   "source": [
    "Extract label"
   ]
  },
  {
   "cell_type": "code",
   "execution_count": 103,
   "metadata": {},
   "outputs": [],
   "source": [
    "import re"
   ]
  },
  {
   "cell_type": "code",
   "execution_count": 104,
   "metadata": {},
   "outputs": [
    {
     "data": {
      "text/plain": [
       "'BENIGN'"
      ]
     },
     "execution_count": 104,
     "metadata": {},
     "output_type": "execute_result"
    }
   ],
   "source": [
    "re.search(r'(?<=\\${3}).+(?=\\${3})', completion.choices[0].message.content).group()"
   ]
  }
 ],
 "metadata": {
  "kernelspec": {
   "display_name": "proton.env",
   "language": "python",
   "name": "python3"
  },
  "language_info": {
   "codemirror_mode": {
    "name": "ipython",
    "version": 3
   },
   "file_extension": ".py",
   "mimetype": "text/x-python",
   "name": "python",
   "nbconvert_exporter": "python",
   "pygments_lexer": "ipython3",
   "version": "3.11.3"
  }
 },
 "nbformat": 4,
 "nbformat_minor": 2
}
